{
 "cells": [
  {
   "cell_type": "code",
   "execution_count": 3,
   "id": "c546f95e",
   "metadata": {},
   "outputs": [],
   "source": [
    "# import required libraries for dataframe and visualization\n",
    "import numpy as np # linear algebra\n",
    "import pandas as pd # data processing, CSV file I/O (e.g. pd.read_csv)\n",
    "import matplotlib.pyplot as plt # for data visualization\n",
    "\n",
    "# Import any other libraries you may need \n",
    "from sklearn.cluster import KMeans\n",
    "from matplotlib import pyplot as plt\n",
    "%matplotlib inline\n",
    "import random\n",
    "import warnings\n",
    "warnings.simplefilter(action='ignore', category=FutureWarning)"
   ]
  },
  {
   "cell_type": "code",
   "execution_count": 4,
   "id": "9dd2d267",
   "metadata": {},
   "outputs": [
    {
     "data": {
      "text/html": [
       "<div>\n",
       "<style scoped>\n",
       "    .dataframe tbody tr th:only-of-type {\n",
       "        vertical-align: middle;\n",
       "    }\n",
       "\n",
       "    .dataframe tbody tr th {\n",
       "        vertical-align: top;\n",
       "    }\n",
       "\n",
       "    .dataframe thead th {\n",
       "        text-align: right;\n",
       "    }\n",
       "</style>\n",
       "<table border=\"1\" class=\"dataframe\">\n",
       "  <thead>\n",
       "    <tr style=\"text-align: right;\">\n",
       "      <th></th>\n",
       "      <th>user_id</th>\n",
       "      <th>\"artistname\"</th>\n",
       "      <th>\"trackname\"</th>\n",
       "      <th>\"playlistname\"</th>\n",
       "    </tr>\n",
       "  </thead>\n",
       "  <tbody>\n",
       "    <tr>\n",
       "      <th>0</th>\n",
       "      <td>9cc0cfd4d7d7885102480dd99e7a90d6</td>\n",
       "      <td>Tiffany Page</td>\n",
       "      <td>7 Years Too Late</td>\n",
       "      <td>HARD ROCK 2010</td>\n",
       "    </tr>\n",
       "    <tr>\n",
       "      <th>1</th>\n",
       "      <td>9cc0cfd4d7d7885102480dd99e7a90d6</td>\n",
       "      <td>Crowded House</td>\n",
       "      <td>Nobody Wants To</td>\n",
       "      <td>HARD ROCK 2010</td>\n",
       "    </tr>\n",
       "    <tr>\n",
       "      <th>2</th>\n",
       "      <td>9cc0cfd4d7d7885102480dd99e7a90d6</td>\n",
       "      <td>Bruce Springsteen</td>\n",
       "      <td>Born to Run</td>\n",
       "      <td>IOW 2012</td>\n",
       "    </tr>\n",
       "    <tr>\n",
       "      <th>3</th>\n",
       "      <td>9cc0cfd4d7d7885102480dd99e7a90d6</td>\n",
       "      <td>Noel Gallagher's High Flying Birds</td>\n",
       "      <td>Everybody's On the Run</td>\n",
       "      <td>IOW 2012</td>\n",
       "    </tr>\n",
       "    <tr>\n",
       "      <th>4</th>\n",
       "      <td>07f0fc3be95dcd878966b1f9572ff670</td>\n",
       "      <td>Solar Fields</td>\n",
       "      <td>Air Song - 8 am Version</td>\n",
       "      <td>Chill out</td>\n",
       "    </tr>\n",
       "  </tbody>\n",
       "</table>\n",
       "</div>"
      ],
      "text/plain": [
       "                            user_id                        \"artistname\"  \\\n",
       "0  9cc0cfd4d7d7885102480dd99e7a90d6                        Tiffany Page   \n",
       "1  9cc0cfd4d7d7885102480dd99e7a90d6                       Crowded House   \n",
       "2  9cc0cfd4d7d7885102480dd99e7a90d6                   Bruce Springsteen   \n",
       "3  9cc0cfd4d7d7885102480dd99e7a90d6  Noel Gallagher's High Flying Birds   \n",
       "4  07f0fc3be95dcd878966b1f9572ff670                        Solar Fields   \n",
       "\n",
       "               \"trackname\"  \"playlistname\"  \n",
       "0         7 Years Too Late  HARD ROCK 2010  \n",
       "1          Nobody Wants To  HARD ROCK 2010  \n",
       "2              Born to Run        IOW 2012  \n",
       "3   Everybody's On the Run        IOW 2012  \n",
       "4  Air Song - 8 am Version       Chill out  "
      ]
     },
     "execution_count": 4,
     "metadata": {},
     "output_type": "execute_result"
    }
   ],
   "source": [
    "p = 0.02  # to randomly select 2% of the rows https://www.kaggle.com/datasets/andrewmvd/spotify-playlists\n",
    "df = pd.read_csv(\"spotify_dataset.csv\", error_bad_lines=False, warn_bad_lines=False, skiprows=lambda i: i>0 and random.random() > p)\n",
    "df.head()"
   ]
  },
  {
   "cell_type": "code",
   "execution_count": 5,
   "id": "7cd07009",
   "metadata": {},
   "outputs": [
    {
     "data": {
      "text/plain": [
       "(257080, 4)"
      ]
     },
     "execution_count": 5,
     "metadata": {},
     "output_type": "execute_result"
    }
   ],
   "source": [
    "df.shape"
   ]
  },
  {
   "cell_type": "code",
   "execution_count": 6,
   "id": "67d807c2",
   "metadata": {},
   "outputs": [
    {
     "data": {
      "text/plain": [
       "user_id            object\n",
       " \"artistname\"      object\n",
       " \"trackname\"       object\n",
       " \"playlistname\"    object\n",
       "dtype: object"
      ]
     },
     "execution_count": 6,
     "metadata": {},
     "output_type": "execute_result"
    }
   ],
   "source": [
    "df.dtypes"
   ]
  },
  {
   "cell_type": "code",
   "execution_count": 7,
   "id": "ffa24e3d",
   "metadata": {},
   "outputs": [
    {
     "data": {
      "text/html": [
       "<div>\n",
       "<style scoped>\n",
       "    .dataframe tbody tr th:only-of-type {\n",
       "        vertical-align: middle;\n",
       "    }\n",
       "\n",
       "    .dataframe tbody tr th {\n",
       "        vertical-align: top;\n",
       "    }\n",
       "\n",
       "    .dataframe thead th {\n",
       "        text-align: right;\n",
       "    }\n",
       "</style>\n",
       "<table border=\"1\" class=\"dataframe\">\n",
       "  <thead>\n",
       "    <tr style=\"text-align: right;\">\n",
       "      <th></th>\n",
       "      <th>user_id</th>\n",
       "      <th>\"artistname\"</th>\n",
       "      <th>\"trackname\"</th>\n",
       "      <th>\"playlistname\"</th>\n",
       "    </tr>\n",
       "  </thead>\n",
       "  <tbody>\n",
       "    <tr>\n",
       "      <th>count</th>\n",
       "      <td>257080</td>\n",
       "      <td>256374</td>\n",
       "      <td>257080</td>\n",
       "      <td>257057</td>\n",
       "    </tr>\n",
       "    <tr>\n",
       "      <th>unique</th>\n",
       "      <td>13426</td>\n",
       "      <td>47044</td>\n",
       "      <td>153581</td>\n",
       "      <td>66257</td>\n",
       "    </tr>\n",
       "    <tr>\n",
       "      <th>top</th>\n",
       "      <td>4398de6902abde3351347b048fcdc287</td>\n",
       "      <td>Daft Punk</td>\n",
       "      <td>Intro</td>\n",
       "      <td>Starred</td>\n",
       "    </tr>\n",
       "    <tr>\n",
       "      <th>freq</th>\n",
       "      <td>5898</td>\n",
       "      <td>728</td>\n",
       "      <td>137</td>\n",
       "      <td>26692</td>\n",
       "    </tr>\n",
       "  </tbody>\n",
       "</table>\n",
       "</div>"
      ],
      "text/plain": [
       "                                 user_id  \"artistname\"  \"trackname\"  \\\n",
       "count                             257080        256374       257080   \n",
       "unique                             13426         47044       153581   \n",
       "top     4398de6902abde3351347b048fcdc287     Daft Punk        Intro   \n",
       "freq                                5898           728          137   \n",
       "\n",
       "        \"playlistname\"  \n",
       "count           257057  \n",
       "unique           66257  \n",
       "top            Starred  \n",
       "freq             26692  "
      ]
     },
     "execution_count": 7,
     "metadata": {},
     "output_type": "execute_result"
    }
   ],
   "source": [
    "df.describe(include='all') "
   ]
  },
  {
   "cell_type": "markdown",
   "id": "57990164",
   "metadata": {},
   "source": [
    "If this dataset works ok, we could do some research out of this.\n",
    "1. Build recommendation systems with collaborative filtering.\n",
    "2. Try to do the recommendation for user A.\n",
    "3. Collect the recommendation outputs. (Q. Are outputs artists, or tracks?)\n",
    "(4. Check the meaningful music features of each artists/tracks. Do they have similarity, or something different? How did collaborative filter work?)"
   ]
  },
  {
   "cell_type": "code",
   "execution_count": 15,
   "id": "6f389541",
   "metadata": {},
   "outputs": [
    {
     "name": "stdout",
     "output_type": "stream",
     "text": [
      "<class 'pandas.core.frame.DataFrame'>\n",
      "RangeIndex: 257080 entries, 0 to 257079\n",
      "Data columns (total 4 columns):\n",
      " #   Column    Non-Null Count   Dtype \n",
      "---  ------    --------------   ----- \n",
      " 0   user      257080 non-null  object\n",
      " 1   artist    256374 non-null  object\n",
      " 2   track     257080 non-null  object\n",
      " 3   playlist  257057 non-null  object\n",
      "dtypes: object(4)\n",
      "memory usage: 7.8+ MB\n"
     ]
    }
   ],
   "source": [
    "# Replace column names:\n",
    "\n",
    "df.columns = df.columns.str.replace('\"', ' ')\n",
    "df.columns = df.columns.str.replace('name', ' ')\n",
    "df.columns = df.columns.str.replace('_id', ' ')\n",
    "df.columns = df.columns.str.replace(' ', '')\n",
    "df.info()"
   ]
  },
  {
   "cell_type": "code",
   "execution_count": 16,
   "id": "d37ec933",
   "metadata": {},
   "outputs": [
    {
     "data": {
      "text/plain": [
       "user          0\n",
       "artist      706\n",
       "track         0\n",
       "playlist     23\n",
       "dtype: int64"
      ]
     },
     "execution_count": 16,
     "metadata": {},
     "output_type": "execute_result"
    }
   ],
   "source": [
    "# Find null values:\n",
    "\n",
    "df.isnull().sum()"
   ]
  },
  {
   "cell_type": "code",
   "execution_count": 17,
   "id": "173270b6",
   "metadata": {},
   "outputs": [
    {
     "data": {
      "text/plain": [
       "0"
      ]
     },
     "execution_count": 17,
     "metadata": {},
     "output_type": "execute_result"
    }
   ],
   "source": [
    "# Find duplicates:\n",
    "\n",
    "df.duplicated().sum()"
   ]
  },
  {
   "cell_type": "code",
   "execution_count": 24,
   "id": "acfdac66",
   "metadata": {
    "scrolled": false
   },
   "outputs": [
    {
     "data": {
      "text/plain": [
       "<AxesSubplot:>"
      ]
     },
     "execution_count": 24,
     "metadata": {},
     "output_type": "execute_result"
    },
    {
     "data": {
      "image/png": "[encoded data removed]",
      "text/plain": [
       "<Figure size 432x288 with 1 Axes>"
      ]
     },
     "metadata": {
      "needs_background": "light"
     },
     "output_type": "display_data"
    }
   ],
   "source": [
    "# Top 20 artists:\n",
    "\n",
    "df['artist'].value_counts()[:20].sort_values().plot(kind = 'barh')"
   ]
  },
  {
   "cell_type": "code",
   "execution_count": 25,
   "id": "b14fbdac",
   "metadata": {},
   "outputs": [
    {
     "data": {
      "text/plain": [
       "<AxesSubplot:>"
      ]
     },
     "execution_count": 25,
     "metadata": {},
     "output_type": "execute_result"
    },
    {
     "data": {
      "image/png": "[encoded data removed]",
      "text/plain": [
       "<Figure size 432x288 with 1 Axes>"
      ]
     },
     "metadata": {
      "needs_background": "light"
     },
     "output_type": "display_data"
    }
   ],
   "source": [
    "# Top 20 tracks:\n",
    "\n",
    "df['track'].value_counts()[:20].sort_values().plot(kind = 'barh')"
   ]
  },
  {
   "cell_type": "code",
   "execution_count": 26,
   "id": "148da590",
   "metadata": {},
   "outputs": [
    {
     "data": {
      "text/plain": [
       "<AxesSubplot:>"
      ]
     },
     "execution_count": 26,
     "metadata": {},
     "output_type": "execute_result"
    },
    {
     "data": {
      "image/png": "[encoded data removed]",
      "text/plain": [
       "<Figure size 432x288 with 1 Axes>"
      ]
     },
     "metadata": {
      "needs_background": "light"
     },
     "output_type": "display_data"
    }
   ],
   "source": [
    "# Top 20 playlists:\n",
    "\n",
    "df['playlist'].value_counts()[:20].sort_values().plot(kind = 'barh')"
   ]
  },
  {
   "cell_type": "markdown",
   "id": "46944173",
   "metadata": {},
   "source": [
    "memory based or model based --- memory based, user-item\n",
    "use lightfm (python implementation)"
   ]
  }
 ],
 "metadata": {
  "kernelspec": {
   "display_name": "Python 3 (ipykernel)",
   "language": "python",
   "name": "python3"
  },
  "language_info": {
   "codemirror_mode": {
    "name": "ipython",
    "version": 3
   },
   "file_extension": ".py",
   "mimetype": "text/x-python",
   "name": "python",
   "nbconvert_exporter": "python",
   "pygments_lexer": "ipython3",
   "version": "3.9.12"
  }
 },
 "nbformat": 4,
 "nbformat_minor": 5
}
